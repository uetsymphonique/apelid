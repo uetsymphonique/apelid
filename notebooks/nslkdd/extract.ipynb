{
 "cells": [
  {
   "cell_type": "code",
   "execution_count": 17,
   "id": "c0beac05",
   "metadata": {},
   "outputs": [
    {
     "name": "stdout",
     "output_type": "stream",
     "text": [
      "/home/soc/minhtq/workspace/apelid/notebooks/nslkdd/../..\n"
     ]
    }
   ],
   "source": [
    "import os\n",
    "import sys\n",
    "import pandas as pd\n",
    "from preprocessing.nslkdd_preprocessor import NSLKDDPreprocessor\n",
    "from utils.logging import setup_logging, get_logger\n",
    "\n",
    "# Add parent directory to path for imports\n",
    "path = os.path.join(os.getcwd(), '..', '..')\n",
    "print(path)\n",
    "sys.path.append(path)\n",
    "\n",
    "from cli.nslkdd.configs import nslkdd\n",
    "\n",
    "logger = get_logger(__name__)\n",
    "setup_logging(\"INFO\")\n",
    "\n",
    "current_path = os.getcwd()\n",
    "root_path = os.path.join(current_path, '..', '..')"
   ]
  },
  {
   "cell_type": "code",
   "execution_count": 19,
   "id": "19928946",
   "metadata": {},
   "outputs": [
    {
     "name": "stderr",
     "output_type": "stream",
     "text": [
      "2025-09-30 19:03:10 - preprocessing.preprocessor - INFO - [+] Dataset shape: (147888, 42)\n",
      "2025-09-30 19:03:10 - preprocessing.preprocessor - INFO - [+] Dataset shape: (147888, 42)\n",
      "2025-09-30 19:03:10 - preprocessing.preprocessor - INFO - [+] Dataset shape: (147888, 42)\n",
      "2025-09-30 19:03:10 - preprocessing.preprocessor - INFO - [+] Dataset columns: ['protocol_type', 'service', 'flag', 'land', 'logged_in', 'is_host_login', 'is_guest_login', 'duration', 'src_bytes', 'dst_bytes', 'wrong_fragment', 'urgent', 'hot', 'num_failed_logins', 'num_compromised', 'root_shell', 'su_attempted', 'num_root', 'num_file_creations', 'num_shells', 'num_access_files', 'num_outbound_cmds', 'count', 'srv_count', 'serror_rate', 'srv_serror_rate', 'rerror_rate', 'srv_rerror_rate', 'same_srv_rate', 'diff_srv_rate', 'srv_diff_host_rate', 'dst_host_count', 'dst_host_srv_count', 'dst_host_same_srv_rate', 'dst_host_diff_srv_rate', 'dst_host_same_src_port_rate', 'dst_host_srv_diff_host_rate', 'dst_host_serror_rate', 'dst_host_srv_serror_rate', 'dst_host_rerror_rate', 'dst_host_srv_rerror_rate', 'Label']\n",
      "2025-09-30 19:03:10 - preprocessing.preprocessor - INFO - [+] Dataset columns: ['protocol_type', 'service', 'flag', 'land', 'logged_in', 'is_host_login', 'is_guest_login', 'duration', 'src_bytes', 'dst_bytes', 'wrong_fragment', 'urgent', 'hot', 'num_failed_logins', 'num_compromised', 'root_shell', 'su_attempted', 'num_root', 'num_file_creations', 'num_shells', 'num_access_files', 'num_outbound_cmds', 'count', 'srv_count', 'serror_rate', 'srv_serror_rate', 'rerror_rate', 'srv_rerror_rate', 'same_srv_rate', 'diff_srv_rate', 'srv_diff_host_rate', 'dst_host_count', 'dst_host_srv_count', 'dst_host_same_srv_rate', 'dst_host_diff_srv_rate', 'dst_host_same_src_port_rate', 'dst_host_srv_diff_host_rate', 'dst_host_serror_rate', 'dst_host_srv_serror_rate', 'dst_host_rerror_rate', 'dst_host_srv_rerror_rate', 'Label']\n",
      "2025-09-30 19:03:10 - preprocessing.preprocessor - INFO - [+] Dataset columns: ['protocol_type', 'service', 'flag', 'land', 'logged_in', 'is_host_login', 'is_guest_login', 'duration', 'src_bytes', 'dst_bytes', 'wrong_fragment', 'urgent', 'hot', 'num_failed_logins', 'num_compromised', 'root_shell', 'su_attempted', 'num_root', 'num_file_creations', 'num_shells', 'num_access_files', 'num_outbound_cmds', 'count', 'srv_count', 'serror_rate', 'srv_serror_rate', 'rerror_rate', 'srv_rerror_rate', 'same_srv_rate', 'diff_srv_rate', 'srv_diff_host_rate', 'dst_host_count', 'dst_host_srv_count', 'dst_host_same_srv_rate', 'dst_host_diff_srv_rate', 'dst_host_same_src_port_rate', 'dst_host_srv_diff_host_rate', 'dst_host_serror_rate', 'dst_host_srv_serror_rate', 'dst_host_rerror_rate', 'dst_host_srv_rerror_rate', 'Label']\n",
      "2025-09-30 19:03:10 - preprocessing.preprocessor - INFO - [+] Dataset label distribution:\n",
      "2025-09-30 19:03:10 - preprocessing.preprocessor - INFO - [+] Dataset label distribution:\n",
      "2025-09-30 19:03:10 - preprocessing.preprocessor - INFO - [+] Dataset label distribution:\n",
      "2025-09-30 19:03:10 - preprocessing.preprocessor - INFO - Label\n",
      "Benign    77120\n",
      "DoS       52987\n",
      "Probe     13935\n",
      "R2L        3738\n",
      "U2R         108\n",
      "Name: count, dtype: int64\n",
      "2025-09-30 19:03:10 - preprocessing.preprocessor - INFO - Label\n",
      "Benign    77120\n",
      "DoS       52987\n",
      "Probe     13935\n",
      "R2L        3738\n",
      "U2R         108\n",
      "Name: count, dtype: int64\n",
      "2025-09-30 19:03:10 - preprocessing.preprocessor - INFO - Label\n",
      "Benign    77120\n",
      "DoS       52987\n",
      "Probe     13935\n",
      "R2L        3738\n",
      "U2R         108\n",
      "Name: count, dtype: int64\n"
     ]
    }
   ],
   "source": [
    "# Load data\n",
    "nslkdd_columns = [\n",
    "    'duration', 'protocol_type', 'service', 'flag', 'src_bytes', 'dst_bytes', \n",
    "    'land', 'wrong_fragment', 'urgent', 'hot', 'num_failed_logins', 'logged_in', \n",
    "    'num_compromised', 'root_shell', 'su_attempted', 'num_root', 'num_file_creations', \n",
    "    'num_shells', 'num_access_files', 'num_outbound_cmds', 'is_host_login', 'is_guest_login', \n",
    "    'count', 'srv_count', 'serror_rate', 'srv_serror_rate', 'rerror_rate', 'srv_rerror_rate', \n",
    "    'same_srv_rate', 'diff_srv_rate', 'srv_diff_host_rate', 'dst_host_count', 'dst_host_srv_count',\n",
    "    'dst_host_same_srv_rate', 'dst_host_diff_srv_rate', 'dst_host_same_src_port_rate', \n",
    "    'dst_host_srv_diff_host_rate', 'dst_host_serror_rate', 'dst_host_srv_serror_rate', \n",
    "    'dst_host_rerror_rate', 'dst_host_srv_rerror_rate', 'attack', 'level'\n",
    "]\n",
    "\n",
    "df = pd.read_csv(r'/home/soc/minhtq/workspace/apelid/data/KDD+.txt', names=nslkdd_columns)\n",
    "df.to_csv(f'{root_path}/data/nslkdd_original.csv', index=False)\n",
    "preprocessor = NSLKDDPreprocessor()\n",
    "\n",
    "# Step 1: Map labels and select features\n",
    "df = preprocessor.map_label(df)\n",
    "df = preprocessor.select_features_and_label(df)\n",
    "\n",
    "# Step 2: Data cleaning\n",
    "df = preprocessor.remove_missing_and_inf_values(df)\n",
    "df = preprocessor.fix_duplicates(df)\n",
    "\n",
    "preprocessor.info_dataset(df)\n",
    "\n",
    "df.to_csv(f'{root_path}/data/nslkdd_original_cleaned.csv', index=False)"
   ]
  }
 ],
 "metadata": {
  "kernelspec": {
   "display_name": "Python 3.10 (apelid)",
   "language": "python",
   "name": "apelid"
  },
  "language_info": {
   "codemirror_mode": {
    "name": "ipython",
    "version": 3
   },
   "file_extension": ".py",
   "mimetype": "text/x-python",
   "name": "python",
   "nbconvert_exporter": "python",
   "pygments_lexer": "ipython3",
   "version": "3.10.18"
  }
 },
 "nbformat": 4,
 "nbformat_minor": 5
}
